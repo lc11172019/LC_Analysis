{
 "cells": [
  {
   "cell_type": "markdown",
   "metadata": {},
   "source": [
    "# Install Packages"
   ]
  },
  {
   "cell_type": "code",
   "execution_count": 1,
   "metadata": {
    "collapsed": true
   },
   "outputs": [],
   "source": [
    "import warnings\n",
    "warnings.filterwarnings(\"ignore\")\n",
    "\n",
    "import pandas as pd\n",
    "import numpy as np\n",
    "from scipy import stats\n",
    "\n",
    "from datetime import datetime\n",
    "from dateutil.parser import parse\n",
    "\n",
    "import seaborn as sns\n",
    "sns.set(color_codes=True)\n",
    "import matplotlib.pyplot as plt\n",
    "from pandas.plotting import scatter_matrix"
   ]
  },
  {
   "cell_type": "markdown",
   "metadata": {},
   "source": [
    "# Part 1: Data Exploration and Evaluation"
   ]
  },
  {
   "cell_type": "markdown",
   "metadata": {},
   "source": [
    "# Load Data"
   ]
  },
  {
   "cell_type": "code",
   "execution_count": 2,
   "metadata": {
    "collapsed": true
   },
   "outputs": [],
   "source": [
    "loan = pd.read_csv('loan.csv')"
   ]
  },
  {
   "cell_type": "code",
   "execution_count": 3,
   "metadata": {},
   "outputs": [
    {
     "data": {
      "text/html": [
       "<div>\n",
       "<style scoped>\n",
       "    .dataframe tbody tr th:only-of-type {\n",
       "        vertical-align: middle;\n",
       "    }\n",
       "\n",
       "    .dataframe tbody tr th {\n",
       "        vertical-align: top;\n",
       "    }\n",
       "\n",
       "    .dataframe thead th {\n",
       "        text-align: right;\n",
       "    }\n",
       "</style>\n",
       "<table border=\"1\" class=\"dataframe\">\n",
       "  <thead>\n",
       "    <tr style=\"text-align: right;\">\n",
       "      <th></th>\n",
       "      <th>id</th>\n",
       "      <th>member_id</th>\n",
       "      <th>loan_amnt</th>\n",
       "      <th>funded_amnt</th>\n",
       "      <th>funded_amnt_inv</th>\n",
       "      <th>term</th>\n",
       "      <th>int_rate</th>\n",
       "      <th>installment</th>\n",
       "      <th>grade</th>\n",
       "      <th>sub_grade</th>\n",
       "      <th>...</th>\n",
       "      <th>hardship_payoff_balance_amount</th>\n",
       "      <th>hardship_last_payment_amount</th>\n",
       "      <th>disbursement_method</th>\n",
       "      <th>debt_settlement_flag</th>\n",
       "      <th>debt_settlement_flag_date</th>\n",
       "      <th>settlement_status</th>\n",
       "      <th>settlement_date</th>\n",
       "      <th>settlement_amount</th>\n",
       "      <th>settlement_percentage</th>\n",
       "      <th>settlement_term</th>\n",
       "    </tr>\n",
       "  </thead>\n",
       "  <tbody>\n",
       "    <tr>\n",
       "      <th>0</th>\n",
       "      <td>NaN</td>\n",
       "      <td>NaN</td>\n",
       "      <td>2500</td>\n",
       "      <td>2500</td>\n",
       "      <td>2500.0</td>\n",
       "      <td>36 months</td>\n",
       "      <td>13.56</td>\n",
       "      <td>84.92</td>\n",
       "      <td>C</td>\n",
       "      <td>C1</td>\n",
       "      <td>...</td>\n",
       "      <td>NaN</td>\n",
       "      <td>NaN</td>\n",
       "      <td>Cash</td>\n",
       "      <td>N</td>\n",
       "      <td>NaN</td>\n",
       "      <td>NaN</td>\n",
       "      <td>NaN</td>\n",
       "      <td>NaN</td>\n",
       "      <td>NaN</td>\n",
       "      <td>NaN</td>\n",
       "    </tr>\n",
       "    <tr>\n",
       "      <th>1</th>\n",
       "      <td>NaN</td>\n",
       "      <td>NaN</td>\n",
       "      <td>30000</td>\n",
       "      <td>30000</td>\n",
       "      <td>30000.0</td>\n",
       "      <td>60 months</td>\n",
       "      <td>18.94</td>\n",
       "      <td>777.23</td>\n",
       "      <td>D</td>\n",
       "      <td>D2</td>\n",
       "      <td>...</td>\n",
       "      <td>NaN</td>\n",
       "      <td>NaN</td>\n",
       "      <td>Cash</td>\n",
       "      <td>N</td>\n",
       "      <td>NaN</td>\n",
       "      <td>NaN</td>\n",
       "      <td>NaN</td>\n",
       "      <td>NaN</td>\n",
       "      <td>NaN</td>\n",
       "      <td>NaN</td>\n",
       "    </tr>\n",
       "    <tr>\n",
       "      <th>2</th>\n",
       "      <td>NaN</td>\n",
       "      <td>NaN</td>\n",
       "      <td>5000</td>\n",
       "      <td>5000</td>\n",
       "      <td>5000.0</td>\n",
       "      <td>36 months</td>\n",
       "      <td>17.97</td>\n",
       "      <td>180.69</td>\n",
       "      <td>D</td>\n",
       "      <td>D1</td>\n",
       "      <td>...</td>\n",
       "      <td>NaN</td>\n",
       "      <td>NaN</td>\n",
       "      <td>Cash</td>\n",
       "      <td>N</td>\n",
       "      <td>NaN</td>\n",
       "      <td>NaN</td>\n",
       "      <td>NaN</td>\n",
       "      <td>NaN</td>\n",
       "      <td>NaN</td>\n",
       "      <td>NaN</td>\n",
       "    </tr>\n",
       "    <tr>\n",
       "      <th>3</th>\n",
       "      <td>NaN</td>\n",
       "      <td>NaN</td>\n",
       "      <td>4000</td>\n",
       "      <td>4000</td>\n",
       "      <td>4000.0</td>\n",
       "      <td>36 months</td>\n",
       "      <td>18.94</td>\n",
       "      <td>146.51</td>\n",
       "      <td>D</td>\n",
       "      <td>D2</td>\n",
       "      <td>...</td>\n",
       "      <td>NaN</td>\n",
       "      <td>NaN</td>\n",
       "      <td>Cash</td>\n",
       "      <td>N</td>\n",
       "      <td>NaN</td>\n",
       "      <td>NaN</td>\n",
       "      <td>NaN</td>\n",
       "      <td>NaN</td>\n",
       "      <td>NaN</td>\n",
       "      <td>NaN</td>\n",
       "    </tr>\n",
       "    <tr>\n",
       "      <th>4</th>\n",
       "      <td>NaN</td>\n",
       "      <td>NaN</td>\n",
       "      <td>30000</td>\n",
       "      <td>30000</td>\n",
       "      <td>30000.0</td>\n",
       "      <td>60 months</td>\n",
       "      <td>16.14</td>\n",
       "      <td>731.78</td>\n",
       "      <td>C</td>\n",
       "      <td>C4</td>\n",
       "      <td>...</td>\n",
       "      <td>NaN</td>\n",
       "      <td>NaN</td>\n",
       "      <td>Cash</td>\n",
       "      <td>N</td>\n",
       "      <td>NaN</td>\n",
       "      <td>NaN</td>\n",
       "      <td>NaN</td>\n",
       "      <td>NaN</td>\n",
       "      <td>NaN</td>\n",
       "      <td>NaN</td>\n",
       "    </tr>\n",
       "  </tbody>\n",
       "</table>\n",
       "<p>5 rows × 145 columns</p>\n",
       "</div>"
      ],
      "text/plain": [
       "   id  member_id  loan_amnt  funded_amnt  funded_amnt_inv        term  \\\n",
       "0 NaN        NaN       2500         2500           2500.0   36 months   \n",
       "1 NaN        NaN      30000        30000          30000.0   60 months   \n",
       "2 NaN        NaN       5000         5000           5000.0   36 months   \n",
       "3 NaN        NaN       4000         4000           4000.0   36 months   \n",
       "4 NaN        NaN      30000        30000          30000.0   60 months   \n",
       "\n",
       "   int_rate  installment grade sub_grade       ...        \\\n",
       "0     13.56        84.92     C        C1       ...         \n",
       "1     18.94       777.23     D        D2       ...         \n",
       "2     17.97       180.69     D        D1       ...         \n",
       "3     18.94       146.51     D        D2       ...         \n",
       "4     16.14       731.78     C        C4       ...         \n",
       "\n",
       "  hardship_payoff_balance_amount hardship_last_payment_amount  \\\n",
       "0                            NaN                          NaN   \n",
       "1                            NaN                          NaN   \n",
       "2                            NaN                          NaN   \n",
       "3                            NaN                          NaN   \n",
       "4                            NaN                          NaN   \n",
       "\n",
       "  disbursement_method  debt_settlement_flag debt_settlement_flag_date  \\\n",
       "0                Cash                     N                       NaN   \n",
       "1                Cash                     N                       NaN   \n",
       "2                Cash                     N                       NaN   \n",
       "3                Cash                     N                       NaN   \n",
       "4                Cash                     N                       NaN   \n",
       "\n",
       "  settlement_status settlement_date settlement_amount  settlement_percentage  \\\n",
       "0               NaN             NaN               NaN                    NaN   \n",
       "1               NaN             NaN               NaN                    NaN   \n",
       "2               NaN             NaN               NaN                    NaN   \n",
       "3               NaN             NaN               NaN                    NaN   \n",
       "4               NaN             NaN               NaN                    NaN   \n",
       "\n",
       "  settlement_term  \n",
       "0             NaN  \n",
       "1             NaN  \n",
       "2             NaN  \n",
       "3             NaN  \n",
       "4             NaN  \n",
       "\n",
       "[5 rows x 145 columns]"
      ]
     },
     "execution_count": 3,
     "metadata": {},
     "output_type": "execute_result"
    }
   ],
   "source": [
    "loan.head()"
   ]
  },
  {
   "cell_type": "code",
   "execution_count": 4,
   "metadata": {
    "collapsed": true
   },
   "outputs": [],
   "source": [
    "#Search for Primary Keys\n",
    "#id := unique LC id for loan listing\n",
    "#member_id := unique LC id for the borrower member\n",
    "sum_stats = loan[['id','member_id']].describe(include='all')"
   ]
  },
  {
   "cell_type": "code",
   "execution_count": 5,
   "metadata": {},
   "outputs": [
    {
     "data": {
      "text/plain": [
       "id           0.0\n",
       "member_id    0.0\n",
       "Name: count, dtype: float64"
      ]
     },
     "execution_count": 5,
     "metadata": {},
     "output_type": "execute_result"
    }
   ],
   "source": [
    "#However, both of those fields are fully null...\n",
    "(sum_stats.loc['count',:]/loan.shape[0])*100"
   ]
  },
  {
   "cell_type": "markdown",
   "metadata": {},
   "source": [
    "# Subset Columns"
   ]
  },
  {
   "cell_type": "code",
   "execution_count": 6,
   "metadata": {
    "collapsed": true
   },
   "outputs": [],
   "source": [
    "#Feature Set (shortened descriptions from LCDataDictionary.xlsx)\n",
    "#loan_amnt := listed amount of the loan applied for by the borrower (if reduced it will be reflected)\n",
    "#funded_amnt := total amount committed to that loan (point in time)\n",
    "#term := number of payments on the loan (values in months, 36 or 60)\n",
    "#int_rate := interest rate on the loan\n",
    "#grade := LC assigned loan grade\n",
    "#annual_inc := annual income (self-reported during registration)\n",
    "#issue_d := month which the loan was funded\n",
    "#dti := ratio calculated using the borrower’s total monthly debt payments on the total debt obligations, \n",
    "#       excluding mortgage and the requested LC loan, divided by the borrower’s self-reported monthly income\n",
    "#revol_bal := total credit revolving balance\n",
    "#total_pymnt := payments received to date for total amount funded\n",
    "#loan_status := current status of the loan\n",
    "loan_db = loan[['loan_amnt', 'funded_amnt', 'term', 'int_rate', 'grade', 'annual_inc', \n",
    "                'issue_d', 'dti', 'revol_bal', 'total_pymnt', 'loan_status']]"
   ]
  },
  {
   "cell_type": "markdown",
   "metadata": {},
   "source": [
    "# Summary Stats"
   ]
  },
  {
   "cell_type": "code",
   "execution_count": 7,
   "metadata": {},
   "outputs": [
    {
     "data": {
      "text/html": [
       "<div>\n",
       "<style scoped>\n",
       "    .dataframe tbody tr th:only-of-type {\n",
       "        vertical-align: middle;\n",
       "    }\n",
       "\n",
       "    .dataframe tbody tr th {\n",
       "        vertical-align: top;\n",
       "    }\n",
       "\n",
       "    .dataframe thead th {\n",
       "        text-align: right;\n",
       "    }\n",
       "</style>\n",
       "<table border=\"1\" class=\"dataframe\">\n",
       "  <thead>\n",
       "    <tr style=\"text-align: right;\">\n",
       "      <th></th>\n",
       "      <th>count</th>\n",
       "      <th>unique</th>\n",
       "      <th>top</th>\n",
       "      <th>freq</th>\n",
       "      <th>mean</th>\n",
       "      <th>std</th>\n",
       "      <th>min</th>\n",
       "      <th>25%</th>\n",
       "      <th>50%</th>\n",
       "      <th>75%</th>\n",
       "      <th>max</th>\n",
       "    </tr>\n",
       "  </thead>\n",
       "  <tbody>\n",
       "    <tr>\n",
       "      <th>loan_amnt</th>\n",
       "      <td>2.26067e+06</td>\n",
       "      <td>NaN</td>\n",
       "      <td>NaN</td>\n",
       "      <td>NaN</td>\n",
       "      <td>15046.9</td>\n",
       "      <td>9190.25</td>\n",
       "      <td>500</td>\n",
       "      <td>8000</td>\n",
       "      <td>12900</td>\n",
       "      <td>20000</td>\n",
       "      <td>40000</td>\n",
       "    </tr>\n",
       "    <tr>\n",
       "      <th>funded_amnt</th>\n",
       "      <td>2.26067e+06</td>\n",
       "      <td>NaN</td>\n",
       "      <td>NaN</td>\n",
       "      <td>NaN</td>\n",
       "      <td>15041.7</td>\n",
       "      <td>9188.41</td>\n",
       "      <td>500</td>\n",
       "      <td>8000</td>\n",
       "      <td>12875</td>\n",
       "      <td>20000</td>\n",
       "      <td>40000</td>\n",
       "    </tr>\n",
       "    <tr>\n",
       "      <th>term</th>\n",
       "      <td>2260668</td>\n",
       "      <td>2</td>\n",
       "      <td>36 months</td>\n",
       "      <td>1609754</td>\n",
       "      <td>NaN</td>\n",
       "      <td>NaN</td>\n",
       "      <td>NaN</td>\n",
       "      <td>NaN</td>\n",
       "      <td>NaN</td>\n",
       "      <td>NaN</td>\n",
       "      <td>NaN</td>\n",
       "    </tr>\n",
       "    <tr>\n",
       "      <th>int_rate</th>\n",
       "      <td>2.26067e+06</td>\n",
       "      <td>NaN</td>\n",
       "      <td>NaN</td>\n",
       "      <td>NaN</td>\n",
       "      <td>13.0929</td>\n",
       "      <td>4.83211</td>\n",
       "      <td>5.31</td>\n",
       "      <td>9.49</td>\n",
       "      <td>12.62</td>\n",
       "      <td>15.99</td>\n",
       "      <td>30.99</td>\n",
       "    </tr>\n",
       "    <tr>\n",
       "      <th>grade</th>\n",
       "      <td>2260668</td>\n",
       "      <td>7</td>\n",
       "      <td>B</td>\n",
       "      <td>663557</td>\n",
       "      <td>NaN</td>\n",
       "      <td>NaN</td>\n",
       "      <td>NaN</td>\n",
       "      <td>NaN</td>\n",
       "      <td>NaN</td>\n",
       "      <td>NaN</td>\n",
       "      <td>NaN</td>\n",
       "    </tr>\n",
       "    <tr>\n",
       "      <th>annual_inc</th>\n",
       "      <td>2.26066e+06</td>\n",
       "      <td>NaN</td>\n",
       "      <td>NaN</td>\n",
       "      <td>NaN</td>\n",
       "      <td>77992.4</td>\n",
       "      <td>112696</td>\n",
       "      <td>0</td>\n",
       "      <td>46000</td>\n",
       "      <td>65000</td>\n",
       "      <td>93000</td>\n",
       "      <td>1.1e+08</td>\n",
       "    </tr>\n",
       "    <tr>\n",
       "      <th>issue_d</th>\n",
       "      <td>2260668</td>\n",
       "      <td>139</td>\n",
       "      <td>Mar-2016</td>\n",
       "      <td>61992</td>\n",
       "      <td>NaN</td>\n",
       "      <td>NaN</td>\n",
       "      <td>NaN</td>\n",
       "      <td>NaN</td>\n",
       "      <td>NaN</td>\n",
       "      <td>NaN</td>\n",
       "      <td>NaN</td>\n",
       "    </tr>\n",
       "    <tr>\n",
       "      <th>dti</th>\n",
       "      <td>2.25896e+06</td>\n",
       "      <td>NaN</td>\n",
       "      <td>NaN</td>\n",
       "      <td>NaN</td>\n",
       "      <td>18.8242</td>\n",
       "      <td>14.1833</td>\n",
       "      <td>-1</td>\n",
       "      <td>11.89</td>\n",
       "      <td>17.84</td>\n",
       "      <td>24.49</td>\n",
       "      <td>999</td>\n",
       "    </tr>\n",
       "    <tr>\n",
       "      <th>revol_bal</th>\n",
       "      <td>2.26067e+06</td>\n",
       "      <td>NaN</td>\n",
       "      <td>NaN</td>\n",
       "      <td>NaN</td>\n",
       "      <td>16658.5</td>\n",
       "      <td>22948.3</td>\n",
       "      <td>0</td>\n",
       "      <td>5950</td>\n",
       "      <td>11324</td>\n",
       "      <td>20246</td>\n",
       "      <td>2.90484e+06</td>\n",
       "    </tr>\n",
       "    <tr>\n",
       "      <th>total_pymnt</th>\n",
       "      <td>2.26067e+06</td>\n",
       "      <td>NaN</td>\n",
       "      <td>NaN</td>\n",
       "      <td>NaN</td>\n",
       "      <td>11824</td>\n",
       "      <td>9889.6</td>\n",
       "      <td>0</td>\n",
       "      <td>4272.58</td>\n",
       "      <td>9060.87</td>\n",
       "      <td>16708</td>\n",
       "      <td>63296.9</td>\n",
       "    </tr>\n",
       "    <tr>\n",
       "      <th>loan_status</th>\n",
       "      <td>2260668</td>\n",
       "      <td>9</td>\n",
       "      <td>Fully Paid</td>\n",
       "      <td>1041952</td>\n",
       "      <td>NaN</td>\n",
       "      <td>NaN</td>\n",
       "      <td>NaN</td>\n",
       "      <td>NaN</td>\n",
       "      <td>NaN</td>\n",
       "      <td>NaN</td>\n",
       "      <td>NaN</td>\n",
       "    </tr>\n",
       "  </tbody>\n",
       "</table>\n",
       "</div>"
      ],
      "text/plain": [
       "                   count unique         top     freq     mean      std   min  \\\n",
       "loan_amnt    2.26067e+06    NaN         NaN      NaN  15046.9  9190.25   500   \n",
       "funded_amnt  2.26067e+06    NaN         NaN      NaN  15041.7  9188.41   500   \n",
       "term             2260668      2   36 months  1609754      NaN      NaN   NaN   \n",
       "int_rate     2.26067e+06    NaN         NaN      NaN  13.0929  4.83211  5.31   \n",
       "grade            2260668      7           B   663557      NaN      NaN   NaN   \n",
       "annual_inc   2.26066e+06    NaN         NaN      NaN  77992.4   112696     0   \n",
       "issue_d          2260668    139    Mar-2016    61992      NaN      NaN   NaN   \n",
       "dti          2.25896e+06    NaN         NaN      NaN  18.8242  14.1833    -1   \n",
       "revol_bal    2.26067e+06    NaN         NaN      NaN  16658.5  22948.3     0   \n",
       "total_pymnt  2.26067e+06    NaN         NaN      NaN    11824   9889.6     0   \n",
       "loan_status      2260668      9  Fully Paid  1041952      NaN      NaN   NaN   \n",
       "\n",
       "                 25%      50%    75%          max  \n",
       "loan_amnt       8000    12900  20000        40000  \n",
       "funded_amnt     8000    12875  20000        40000  \n",
       "term             NaN      NaN    NaN          NaN  \n",
       "int_rate        9.49    12.62  15.99        30.99  \n",
       "grade            NaN      NaN    NaN          NaN  \n",
       "annual_inc     46000    65000  93000      1.1e+08  \n",
       "issue_d          NaN      NaN    NaN          NaN  \n",
       "dti            11.89    17.84  24.49          999  \n",
       "revol_bal       5950    11324  20246  2.90484e+06  \n",
       "total_pymnt  4272.58  9060.87  16708      63296.9  \n",
       "loan_status      NaN      NaN    NaN          NaN  "
      ]
     },
     "execution_count": 7,
     "metadata": {},
     "output_type": "execute_result"
    }
   ],
   "source": [
    "loan_db.describe(include='all').T"
   ]
  },
  {
   "cell_type": "code",
   "execution_count": 8,
   "metadata": {},
   "outputs": [
    {
     "name": "stdout",
     "output_type": "stream",
     "text": [
      "Total Rows: 2260668\n"
     ]
    }
   ],
   "source": [
    "print('Total Rows: '+str(loan_db.shape[0]))"
   ]
  },
  {
   "cell_type": "code",
   "execution_count": 9,
   "metadata": {},
   "outputs": [
    {
     "data": {
      "image/png": "[encoded data removed]",
      "text/plain": [
       "<matplotlib.figure.Figure at 0x11cf97e48>"
      ]
     },
     "metadata": {},
     "output_type": "display_data"
    }
   ],
   "source": [
    "loan_db.hist()\n",
    "plt.show()"
   ]
  },
  {
   "cell_type": "raw",
   "metadata": {},
   "source": [
    "From the above summary table / charts we can see:\n",
    "1) There are nulls in the annual income and dti fields...\n",
    "2) There are outliers in income (both low (0) and high) which will also affect dti\n",
    "3) There are potentially some other fields affected such as revol_bal"
   ]
  },
  {
   "cell_type": "markdown",
   "metadata": {},
   "source": [
    "# Column Exploration"
   ]
  },
  {
   "cell_type": "markdown",
   "metadata": {},
   "source": [
    "# Observatons Over Time"
   ]
  },
  {
   "cell_type": "code",
   "execution_count": 10,
   "metadata": {
    "collapsed": true
   },
   "outputs": [],
   "source": [
    "issue_date = loan_db['issue_d'].apply(lambda x: datetime.strptime(x, '%b-%Y')).to_frame()"
   ]
  },
  {
   "cell_type": "code",
   "execution_count": 11,
   "metadata": {},
   "outputs": [
    {
     "data": {
      "image/png": "[encoded data removed]",
      "text/plain": [
       "<matplotlib.figure.Figure at 0x11e306b38>"
      ]
     },
     "metadata": {},
     "output_type": "display_data"
    }
   ],
   "source": [
    "issue_date.groupby(['issue_d'])['issue_d'].count().plot()\n",
    "plt.title('Loans By Issue Date')\n",
    "plt.show()"
   ]
  },
  {
   "cell_type": "markdown",
   "metadata": {},
   "source": [
    "# Income"
   ]
  },
  {
   "cell_type": "markdown",
   "metadata": {},
   "source": [
    "From the summary statistics we know we have both 0 values as well as high outliers"
   ]
  },
  {
   "cell_type": "code",
   "execution_count": 12,
   "metadata": {},
   "outputs": [
    {
     "data": {
      "image/png": "[encoded data removed]",
      "text/plain": [
       "<matplotlib.figure.Figure at 0x119d3bba8>"
      ]
     },
     "metadata": {},
     "output_type": "display_data"
    }
   ],
   "source": [
    "sns.boxplot(x=loan_db[loan_db['annual_inc'].notnull()]['annual_inc'])\n",
    "plt.show()"
   ]
  },
  {
   "cell_type": "markdown",
   "metadata": {},
   "source": [
    "First we remove the data points above the 99th percentile and below the 1st percentile"
   ]
  },
  {
   "cell_type": "code",
   "execution_count": 13,
   "metadata": {},
   "outputs": [
    {
     "data": {
      "image/png": "[encoded data removed]",
      "text/plain": [
       "<matplotlib.figure.Figure at 0x1430fceb8>"
      ]
     },
     "metadata": {},
     "output_type": "display_data"
    }
   ],
   "source": [
    "sns.boxplot(x=loan_db[(loan_db['annual_inc'].notnull()) & \n",
    "                      (loan_db['annual_inc'] <= loan_db.annual_inc.quantile(.99)) &\n",
    "                      (loan_db['annual_inc'] >= loan_db.annual_inc.quantile(.01))\n",
    "                     ]['annual_inc'])\n",
    "plt.show()"
   ]
  },
  {
   "cell_type": "markdown",
   "metadata": {},
   "source": [
    "We also know that logging income will make the variable more normally distributed"
   ]
  },
  {
   "cell_type": "code",
   "execution_count": 14,
   "metadata": {},
   "outputs": [
    {
     "data": {
      "image/png": "[encoded data removed]",
      "text/plain": [
       "<matplotlib.figure.Figure at 0x1430ed828>"
      ]
     },
     "metadata": {},
     "output_type": "display_data"
    }
   ],
   "source": [
    "sns.distplot(loan_db[(loan_db['annual_inc'].notnull()) & \n",
    "                     (loan_db['annual_inc'] <= loan_db.annual_inc.quantile(.99)) &\n",
    "                     (loan_db['annual_inc'] >= loan_db.annual_inc.quantile(.01)) &\n",
    "                     (loan_db['annual_inc'] > 0)]['annual_inc'])\n",
    "plt.title('Annual Income (Raw)')\n",
    "plt.show()\n"
   ]
  },
  {
   "cell_type": "code",
   "execution_count": 15,
   "metadata": {},
   "outputs": [
    {
     "data": {
      "image/png": "[encoded data removed]",
      "text/plain": [
       "<matplotlib.figure.Figure at 0x14310d0f0>"
      ]
     },
     "metadata": {},
     "output_type": "display_data"
    }
   ],
   "source": [
    "sns.distplot(np.log(loan_db[(loan_db['annual_inc'].notnull()) & \n",
    "                     (loan_db['annual_inc'] <= loan_db.annual_inc.quantile(.99)) &\n",
    "                     (loan_db['annual_inc'] >= loan_db.annual_inc.quantile(.01)) &\n",
    "                     (loan_db['annual_inc'] > 0)]['annual_inc']))\n",
    "plt.title('Annual Income (Log)')\n",
    "plt.show()"
   ]
  },
  {
   "cell_type": "markdown",
   "metadata": {},
   "source": [
    "# Apply the filter to the data"
   ]
  },
  {
   "cell_type": "code",
   "execution_count": 16,
   "metadata": {
    "collapsed": true
   },
   "outputs": [],
   "source": [
    "loan_db_filtered = loan_db[(loan_db['annual_inc'].notnull()) & \n",
    "                           (loan_db['annual_inc'] <= loan_db.annual_inc.quantile(.99)) &\n",
    "                           (loan_db['annual_inc'] >= loan_db.annual_inc.quantile(.01)) &\n",
    "                           (loan_db['annual_inc'] > 0)].reset_index(drop=True)"
   ]
  },
  {
   "cell_type": "code",
   "execution_count": 17,
   "metadata": {},
   "outputs": [
    {
     "data": {
      "text/html": [
       "<div>\n",
       "<style scoped>\n",
       "    .dataframe tbody tr th:only-of-type {\n",
       "        vertical-align: middle;\n",
       "    }\n",
       "\n",
       "    .dataframe tbody tr th {\n",
       "        vertical-align: top;\n",
       "    }\n",
       "\n",
       "    .dataframe thead th {\n",
       "        text-align: right;\n",
       "    }\n",
       "</style>\n",
       "<table border=\"1\" class=\"dataframe\">\n",
       "  <thead>\n",
       "    <tr style=\"text-align: right;\">\n",
       "      <th></th>\n",
       "      <th>count</th>\n",
       "      <th>unique</th>\n",
       "      <th>top</th>\n",
       "      <th>freq</th>\n",
       "      <th>mean</th>\n",
       "      <th>std</th>\n",
       "      <th>min</th>\n",
       "      <th>25%</th>\n",
       "      <th>50%</th>\n",
       "      <th>75%</th>\n",
       "      <th>max</th>\n",
       "    </tr>\n",
       "  </thead>\n",
       "  <tbody>\n",
       "    <tr>\n",
       "      <th>loan_amnt</th>\n",
       "      <td>2.21558e+06</td>\n",
       "      <td>NaN</td>\n",
       "      <td>NaN</td>\n",
       "      <td>NaN</td>\n",
       "      <td>14993.1</td>\n",
       "      <td>9088.38</td>\n",
       "      <td>500</td>\n",
       "      <td>8000</td>\n",
       "      <td>12800</td>\n",
       "      <td>20000</td>\n",
       "      <td>40000</td>\n",
       "    </tr>\n",
       "    <tr>\n",
       "      <th>funded_amnt</th>\n",
       "      <td>2.21558e+06</td>\n",
       "      <td>NaN</td>\n",
       "      <td>NaN</td>\n",
       "      <td>NaN</td>\n",
       "      <td>14987.8</td>\n",
       "      <td>9086.53</td>\n",
       "      <td>500</td>\n",
       "      <td>8000</td>\n",
       "      <td>12800</td>\n",
       "      <td>20000</td>\n",
       "      <td>40000</td>\n",
       "    </tr>\n",
       "    <tr>\n",
       "      <th>term</th>\n",
       "      <td>2215576</td>\n",
       "      <td>2</td>\n",
       "      <td>36 months</td>\n",
       "      <td>1574368</td>\n",
       "      <td>NaN</td>\n",
       "      <td>NaN</td>\n",
       "      <td>NaN</td>\n",
       "      <td>NaN</td>\n",
       "      <td>NaN</td>\n",
       "      <td>NaN</td>\n",
       "      <td>NaN</td>\n",
       "    </tr>\n",
       "    <tr>\n",
       "      <th>int_rate</th>\n",
       "      <td>2.21558e+06</td>\n",
       "      <td>NaN</td>\n",
       "      <td>NaN</td>\n",
       "      <td>NaN</td>\n",
       "      <td>13.0912</td>\n",
       "      <td>4.82524</td>\n",
       "      <td>5.31</td>\n",
       "      <td>9.49</td>\n",
       "      <td>12.62</td>\n",
       "      <td>15.99</td>\n",
       "      <td>30.99</td>\n",
       "    </tr>\n",
       "    <tr>\n",
       "      <th>grade</th>\n",
       "      <td>2215576</td>\n",
       "      <td>7</td>\n",
       "      <td>B</td>\n",
       "      <td>651630</td>\n",
       "      <td>NaN</td>\n",
       "      <td>NaN</td>\n",
       "      <td>NaN</td>\n",
       "      <td>NaN</td>\n",
       "      <td>NaN</td>\n",
       "      <td>NaN</td>\n",
       "      <td>NaN</td>\n",
       "    </tr>\n",
       "    <tr>\n",
       "      <th>annual_inc</th>\n",
       "      <td>2.21558e+06</td>\n",
       "      <td>NaN</td>\n",
       "      <td>NaN</td>\n",
       "      <td>NaN</td>\n",
       "      <td>74845.8</td>\n",
       "      <td>40053.9</td>\n",
       "      <td>16800</td>\n",
       "      <td>47000</td>\n",
       "      <td>65000</td>\n",
       "      <td>92000</td>\n",
       "      <td>270000</td>\n",
       "    </tr>\n",
       "    <tr>\n",
       "      <th>issue_d</th>\n",
       "      <td>2215576</td>\n",
       "      <td>139</td>\n",
       "      <td>Mar-2016</td>\n",
       "      <td>60928</td>\n",
       "      <td>NaN</td>\n",
       "      <td>NaN</td>\n",
       "      <td>NaN</td>\n",
       "      <td>NaN</td>\n",
       "      <td>NaN</td>\n",
       "      <td>NaN</td>\n",
       "      <td>NaN</td>\n",
       "    </tr>\n",
       "    <tr>\n",
       "      <th>dti</th>\n",
       "      <td>2.21558e+06</td>\n",
       "      <td>NaN</td>\n",
       "      <td>NaN</td>\n",
       "      <td>NaN</td>\n",
       "      <td>18.6217</td>\n",
       "      <td>9.30313</td>\n",
       "      <td>-1</td>\n",
       "      <td>11.98</td>\n",
       "      <td>17.9</td>\n",
       "      <td>24.5</td>\n",
       "      <td>581.61</td>\n",
       "    </tr>\n",
       "    <tr>\n",
       "      <th>revol_bal</th>\n",
       "      <td>2.21558e+06</td>\n",
       "      <td>NaN</td>\n",
       "      <td>NaN</td>\n",
       "      <td>NaN</td>\n",
       "      <td>16239.8</td>\n",
       "      <td>19821</td>\n",
       "      <td>0</td>\n",
       "      <td>5994</td>\n",
       "      <td>11333.5</td>\n",
       "      <td>20117</td>\n",
       "      <td>1.47094e+06</td>\n",
       "    </tr>\n",
       "    <tr>\n",
       "      <th>total_pymnt</th>\n",
       "      <td>2.21558e+06</td>\n",
       "      <td>NaN</td>\n",
       "      <td>NaN</td>\n",
       "      <td>NaN</td>\n",
       "      <td>11812.5</td>\n",
       "      <td>9822.19</td>\n",
       "      <td>0</td>\n",
       "      <td>4314.53</td>\n",
       "      <td>9105.59</td>\n",
       "      <td>16677.1</td>\n",
       "      <td>63296.9</td>\n",
       "    </tr>\n",
       "    <tr>\n",
       "      <th>loan_status</th>\n",
       "      <td>2215576</td>\n",
       "      <td>9</td>\n",
       "      <td>Fully Paid</td>\n",
       "      <td>1024768</td>\n",
       "      <td>NaN</td>\n",
       "      <td>NaN</td>\n",
       "      <td>NaN</td>\n",
       "      <td>NaN</td>\n",
       "      <td>NaN</td>\n",
       "      <td>NaN</td>\n",
       "      <td>NaN</td>\n",
       "    </tr>\n",
       "  </tbody>\n",
       "</table>\n",
       "</div>"
      ],
      "text/plain": [
       "                   count unique         top     freq     mean      std    min  \\\n",
       "loan_amnt    2.21558e+06    NaN         NaN      NaN  14993.1  9088.38    500   \n",
       "funded_amnt  2.21558e+06    NaN         NaN      NaN  14987.8  9086.53    500   \n",
       "term             2215576      2   36 months  1574368      NaN      NaN    NaN   \n",
       "int_rate     2.21558e+06    NaN         NaN      NaN  13.0912  4.82524   5.31   \n",
       "grade            2215576      7           B   651630      NaN      NaN    NaN   \n",
       "annual_inc   2.21558e+06    NaN         NaN      NaN  74845.8  40053.9  16800   \n",
       "issue_d          2215576    139    Mar-2016    60928      NaN      NaN    NaN   \n",
       "dti          2.21558e+06    NaN         NaN      NaN  18.6217  9.30313     -1   \n",
       "revol_bal    2.21558e+06    NaN         NaN      NaN  16239.8    19821      0   \n",
       "total_pymnt  2.21558e+06    NaN         NaN      NaN  11812.5  9822.19      0   \n",
       "loan_status      2215576      9  Fully Paid  1024768      NaN      NaN    NaN   \n",
       "\n",
       "                 25%      50%      75%          max  \n",
       "loan_amnt       8000    12800    20000        40000  \n",
       "funded_amnt     8000    12800    20000        40000  \n",
       "term             NaN      NaN      NaN          NaN  \n",
       "int_rate        9.49    12.62    15.99        30.99  \n",
       "grade            NaN      NaN      NaN          NaN  \n",
       "annual_inc     47000    65000    92000       270000  \n",
       "issue_d          NaN      NaN      NaN          NaN  \n",
       "dti            11.98     17.9     24.5       581.61  \n",
       "revol_bal       5994  11333.5    20117  1.47094e+06  \n",
       "total_pymnt  4314.53  9105.59  16677.1      63296.9  \n",
       "loan_status      NaN      NaN      NaN          NaN  "
      ]
     },
     "execution_count": 17,
     "metadata": {},
     "output_type": "execute_result"
    }
   ],
   "source": [
    "loan_db_filtered.describe(include='all').T"
   ]
  },
  {
   "cell_type": "code",
   "execution_count": 18,
   "metadata": {},
   "outputs": [
    {
     "name": "stdout",
     "output_type": "stream",
     "text": [
      "Total Rows: 2215576\n"
     ]
    }
   ],
   "source": [
    "print('Total Rows: '+str(loan_db_filtered.shape[0]))"
   ]
  },
  {
   "cell_type": "markdown",
   "metadata": {},
   "source": [
    "# Debt to Income (DTI)"
   ]
  },
  {
   "cell_type": "markdown",
   "metadata": {},
   "source": [
    "To filter DTI we know these values should be >= 0; however we cannot make any assumptions on the high end without knowing things like savings or average daily bank balance. While it is most sensible for DTI to be < 100 it is possible people over extend themselves or are borrowing against savings. "
   ]
  },
  {
   "cell_type": "code",
   "execution_count": 19,
   "metadata": {},
   "outputs": [
    {
     "data": {
      "image/png": "[encoded data removed]",
      "text/plain": [
       "<matplotlib.figure.Figure at 0x11bd43e48>"
      ]
     },
     "metadata": {},
     "output_type": "display_data"
    }
   ],
   "source": [
    "sns.distplot(loan_db_filtered['dti'])\n",
    "plt.show()"
   ]
  },
  {
   "cell_type": "code",
   "execution_count": 20,
   "metadata": {},
   "outputs": [
    {
     "data": {
      "image/png": "[encoded data removed]",
      "text/plain": [
       "<matplotlib.figure.Figure at 0x119baaef0>"
      ]
     },
     "metadata": {},
     "output_type": "display_data"
    }
   ],
   "source": [
    "sns.distplot(loan_db_filtered[(loan_db_filtered['dti']>=0) &\n",
    "                              (loan_db_filtered['dti']<=100)]['dti'])\n",
    "plt.show()"
   ]
  },
  {
   "cell_type": "markdown",
   "metadata": {},
   "source": [
    "# Apply the filter to the data"
   ]
  },
  {
   "cell_type": "code",
   "execution_count": 21,
   "metadata": {
    "collapsed": true
   },
   "outputs": [],
   "source": [
    "loan_db_filtered = loan_db_filtered[loan_db_filtered['dti']>=0].reset_index(drop=True)"
   ]
  },
  {
   "cell_type": "markdown",
   "metadata": {},
   "source": [
    "# Categorical Variables"
   ]
  },
  {
   "cell_type": "code",
   "execution_count": 22,
   "metadata": {},
   "outputs": [
    {
     "data": {
      "text/plain": [
       "term\n",
       " 36 months    1574367\n",
       " 60 months     641207\n",
       "Name: loan_status, dtype: int64"
      ]
     },
     "execution_count": 22,
     "metadata": {},
     "output_type": "execute_result"
    }
   ],
   "source": [
    "loan_db_filtered.groupby(['term'])['loan_status'].count()"
   ]
  },
  {
   "cell_type": "code",
   "execution_count": 23,
   "metadata": {},
   "outputs": [
    {
     "data": {
      "text/plain": [
       "grade\n",
       "A    423234\n",
       "B    651629\n",
       "C    637721\n",
       "D    317433\n",
       "E    132645\n",
       "F     41019\n",
       "G     11893\n",
       "Name: loan_status, dtype: int64"
      ]
     },
     "execution_count": 23,
     "metadata": {},
     "output_type": "execute_result"
    }
   ],
   "source": [
    "loan_db_filtered.groupby(['grade'])['loan_status'].count()"
   ]
  },
  {
   "cell_type": "code",
   "execution_count": 24,
   "metadata": {},
   "outputs": [
    {
     "data": {
      "text/plain": [
       "loan_status\n",
       "Charged Off                                             257576\n",
       "Current                                                 896878\n",
       "Default                                                     31\n",
       "Does not meet the credit policy. Status:Charged Off        722\n",
       "Does not meet the credit policy. Status:Fully Paid        1880\n",
       "Fully Paid                                             1024766\n",
       "In Grace Period                                           8734\n",
       "Late (16-30 days)                                         3620\n",
       "Late (31-120 days)                                       21367\n",
       "Name: loan_status, dtype: int64"
      ]
     },
     "execution_count": 24,
     "metadata": {},
     "output_type": "execute_result"
    }
   ],
   "source": [
    "loan_db_filtered.groupby(['loan_status'])['loan_status'].count()"
   ]
  },
  {
   "cell_type": "markdown",
   "metadata": {},
   "source": [
    "Explanation of each loan status:\n",
    "Charged Off := after a loan has been defaulted; declaration an amount of debt is unlikely to be collected\n",
    "Does not meet the credit policy. Status:Charged Off\n",
    "\n",
    "Default := one or more payments are overdue but it has not been formally charged off\n",
    "Other Indicators that a loan is still in progress...Late (16-30 days), Late (31-120 days), In Grace Period\n",
    "\n",
    "Current := one or more payments completed; no payments past due; loan has one or more scheduled future payments\n",
    "\n",
    "Fully Paid := repaid in full including all principal and interest payments\n",
    "Does not meet the credit policy. Status:Fully Paid "
   ]
  },
  {
   "cell_type": "markdown",
   "metadata": {},
   "source": [
    "# Part 2: Business Analysis"
   ]
  },
  {
   "cell_type": "markdown",
   "metadata": {},
   "source": [
    "Evaluating whether the 36 month term loans would make for a good investment\n",
    "Assume a 36 month investment period for each loan, and exclude loans with less than 36 months of data available"
   ]
  },
  {
   "cell_type": "code",
   "execution_count": 25,
   "metadata": {
    "collapsed": true
   },
   "outputs": [],
   "source": [
    "loan_db_part2 = loan_db_filtered"
   ]
  },
  {
   "cell_type": "code",
   "execution_count": 26,
   "metadata": {
    "collapsed": true
   },
   "outputs": [],
   "source": [
    "#Turn issue date into a date variable to grab origination year\n",
    "loan_db_part2['issue_date'] = loan_db_part2['issue_d'].apply(lambda x: datetime.strptime(x, '%b-%Y'))\n",
    "loan_db_part2['Origination_Year'] = loan_db_part2.issue_date.apply(lambda x: x.year)"
   ]
  },
  {
   "cell_type": "markdown",
   "metadata": {},
   "source": [
    "# Further Filtering"
   ]
  },
  {
   "cell_type": "code",
   "execution_count": 27,
   "metadata": {
    "collapsed": true
   },
   "outputs": [],
   "source": [
    "#Filter for 36 month term\n",
    "loan_db_part2 = loan_db_part2[loan_db_part2.term == ' 36 months'].reset_index(drop=True)\n",
    "\n",
    "#Filter to loans originated over 36 months ago\n",
    "loan_db_part2 = loan_db_part2[loan_db_part2.Origination_Year <= 2015].reset_index(drop=True)"
   ]
  },
  {
   "cell_type": "code",
   "execution_count": 28,
   "metadata": {},
   "outputs": [
    {
     "data": {
      "text/plain": [
       "loan_status\n",
       "Charged Off                                             84251\n",
       "Current                                                   121\n",
       "Does not meet the credit policy. Status:Charged Off       610\n",
       "Does not meet the credit policy. Status:Fully Paid       1685\n",
       "Fully Paid                                             523731\n",
       "In Grace Period                                            15\n",
       "Late (16-30 days)                                           4\n",
       "Late (31-120 days)                                        174\n",
       "Name: loan_status, dtype: int64"
      ]
     },
     "execution_count": 28,
     "metadata": {},
     "output_type": "execute_result"
    }
   ],
   "source": [
    "loan_db_part2.groupby(['loan_status'])['loan_status'].count()"
   ]
  },
  {
   "cell_type": "code",
   "execution_count": 32,
   "metadata": {
    "collapsed": true
   },
   "outputs": [],
   "source": [
    "# Simplify Loan Status into a smaller subset of Outcomes\n",
    "def loan_status_unification(status):\n",
    "    if (status == 'Charged Off') or (status == 'Does not meet the credit policy. Status:Charged Off'):\n",
    "        return 'Charged Off'\n",
    "    elif (status == 'Fully Paid') or (status == 'Does not meet the credit policy. Status:Fully Paid'):\n",
    "        return 'Fully Paid'\n",
    "    else: \n",
    "        return status\n",
    "loan_db_part2['outcome'] = loan_db_part2['loan_status'].apply(lambda x: loan_status_unification(x))"
   ]
  },
  {
   "cell_type": "code",
   "execution_count": 33,
   "metadata": {
    "collapsed": true
   },
   "outputs": [],
   "source": [
    "# In this scenario a loan is either fully paid (0) or in default (1)\n",
    "def default_indicator(status):\n",
    "    if (status == 'Fully Paid') or (status == 'Does not meet the credit policy. Status:Fully Paid'):\n",
    "        return 0\n",
    "    else:\n",
    "        return 1\n",
    "loan_db_part2['default_ind'] = loan_db_part2['loan_status'].apply(lambda x: default_indicator(x))"
   ]
  },
  {
   "cell_type": "markdown",
   "metadata": {},
   "source": [
    "# 1) What percentage of loans has been fully paid?"
   ]
  },
  {
   "cell_type": "code",
   "execution_count": 34,
   "metadata": {},
   "outputs": [
    {
     "name": "stdout",
     "output_type": "stream",
     "text": [
      "outcome\n",
      "Charged Off           13.90\n",
      "Current                0.02\n",
      "Fully Paid            86.05\n",
      "In Grace Period        0.00\n",
      "Late (16-30 days)      0.00\n",
      "Late (31-120 days)     0.03\n",
      "Name: count, dtype: float64\n"
     ]
    }
   ],
   "source": [
    "outcomes = loan_db_part2.groupby(['outcome'])['outcome'].count().rename(\"count\")\n",
    "print(round((outcomes/outcomes.sum())*100,2))"
   ]
  },
  {
   "cell_type": "markdown",
   "metadata": {},
   "source": [
    "# 2) When bucketed by year of origination and grade, which cohort has the highest rate of defaults? Here you may assume that any loan which was not fully paid had “defaulted”."
   ]
  },
  {
   "cell_type": "markdown",
   "metadata": {},
   "source": [
    "# Origination Year"
   ]
  },
  {
   "cell_type": "code",
   "execution_count": 35,
   "metadata": {
    "collapsed": true
   },
   "outputs": [],
   "source": [
    "num_defaulted = loan_db_part2.groupby(['Origination_Year'])['default_ind'].sum().rename('defaulted').reset_index()\n",
    "num_loans = loan_db_part2.groupby(['Origination_Year'])['default_ind'].count().rename('loans').reset_index()"
   ]
  },
  {
   "cell_type": "code",
   "execution_count": 36,
   "metadata": {
    "collapsed": true
   },
   "outputs": [],
   "source": [
    "loan_performance = pd.merge(num_defaulted, num_loans, on = ['Origination_Year'])\n",
    "loan_performance['default_rate'] = round((loan_performance.defaulted/loan_performance.loans)*100,2)"
   ]
  },
  {
   "cell_type": "code",
   "execution_count": 37,
   "metadata": {},
   "outputs": [
    {
     "data": {
      "text/html": [
       "<div>\n",
       "<style scoped>\n",
       "    .dataframe tbody tr th:only-of-type {\n",
       "        vertical-align: middle;\n",
       "    }\n",
       "\n",
       "    .dataframe tbody tr th {\n",
       "        vertical-align: top;\n",
       "    }\n",
       "\n",
       "    .dataframe thead th {\n",
       "        text-align: right;\n",
       "    }\n",
       "</style>\n",
       "<table border=\"1\" class=\"dataframe\">\n",
       "  <thead>\n",
       "    <tr style=\"text-align: right;\">\n",
       "      <th></th>\n",
       "      <th>Origination_Year</th>\n",
       "      <th>defaulted</th>\n",
       "      <th>loans</th>\n",
       "      <th>default_rate</th>\n",
       "    </tr>\n",
       "  </thead>\n",
       "  <tbody>\n",
       "    <tr>\n",
       "      <th>0</th>\n",
       "      <td>2015</td>\n",
       "      <td>41532</td>\n",
       "      <td>277908</td>\n",
       "      <td>14.94</td>\n",
       "    </tr>\n",
       "    <tr>\n",
       "      <th>1</th>\n",
       "      <td>2014</td>\n",
       "      <td>21926</td>\n",
       "      <td>159947</td>\n",
       "      <td>13.71</td>\n",
       "    </tr>\n",
       "    <tr>\n",
       "      <th>2</th>\n",
       "      <td>2013</td>\n",
       "      <td>12186</td>\n",
       "      <td>99225</td>\n",
       "      <td>12.28</td>\n",
       "    </tr>\n",
       "    <tr>\n",
       "      <th>3</th>\n",
       "      <td>2012</td>\n",
       "      <td>5820</td>\n",
       "      <td>42843</td>\n",
       "      <td>13.58</td>\n",
       "    </tr>\n",
       "    <tr>\n",
       "      <th>4</th>\n",
       "      <td>2011</td>\n",
       "      <td>1458</td>\n",
       "      <td>13796</td>\n",
       "      <td>10.57</td>\n",
       "    </tr>\n",
       "    <tr>\n",
       "      <th>5</th>\n",
       "      <td>2010</td>\n",
       "      <td>948</td>\n",
       "      <td>8889</td>\n",
       "      <td>10.66</td>\n",
       "    </tr>\n",
       "    <tr>\n",
       "      <th>6</th>\n",
       "      <td>2009</td>\n",
       "      <td>692</td>\n",
       "      <td>5114</td>\n",
       "      <td>13.53</td>\n",
       "    </tr>\n",
       "    <tr>\n",
       "      <th>7</th>\n",
       "      <td>2008</td>\n",
       "      <td>480</td>\n",
       "      <td>2335</td>\n",
       "      <td>20.56</td>\n",
       "    </tr>\n",
       "    <tr>\n",
       "      <th>8</th>\n",
       "      <td>2007</td>\n",
       "      <td>133</td>\n",
       "      <td>534</td>\n",
       "      <td>24.91</td>\n",
       "    </tr>\n",
       "  </tbody>\n",
       "</table>\n",
       "</div>"
      ],
      "text/plain": [
       "   Origination_Year  defaulted   loans  default_rate\n",
       "0              2015      41532  277908         14.94\n",
       "1              2014      21926  159947         13.71\n",
       "2              2013      12186   99225         12.28\n",
       "3              2012       5820   42843         13.58\n",
       "4              2011       1458   13796         10.57\n",
       "5              2010        948    8889         10.66\n",
       "6              2009        692    5114         13.53\n",
       "7              2008        480    2335         20.56\n",
       "8              2007        133     534         24.91"
      ]
     },
     "execution_count": 37,
     "metadata": {},
     "output_type": "execute_result"
    }
   ],
   "source": [
    "loan_performance.sort_values(by=['Origination_Year'],ascending=False).reset_index(drop=True)"
   ]
  },
  {
   "cell_type": "code",
   "execution_count": 38,
   "metadata": {},
   "outputs": [
    {
     "data": {
      "image/png": "[encoded data removed]",
      "text/plain": [
       "<matplotlib.figure.Figure at 0x120c5dc50>"
      ]
     },
     "metadata": {},
     "output_type": "display_data"
    }
   ],
   "source": [
    "plt.scatter(loan_performance.Origination_Year,loan_performance.default_rate)\n",
    "plt.show()"
   ]
  },
  {
   "cell_type": "markdown",
   "metadata": {},
   "source": [
    "# Grade"
   ]
  },
  {
   "cell_type": "code",
   "execution_count": 39,
   "metadata": {
    "collapsed": true
   },
   "outputs": [],
   "source": [
    "num_defaulted = loan_db_part2.groupby(['grade'])['default_ind'].sum().rename('defaulted').reset_index()\n",
    "num_loans = loan_db_part2.groupby(['grade'])['default_ind'].count().rename('loans').reset_index()"
   ]
  },
  {
   "cell_type": "code",
   "execution_count": 40,
   "metadata": {
    "collapsed": true
   },
   "outputs": [],
   "source": [
    "loan_performance = pd.merge(num_defaulted, num_loans, on = ['grade'])\n",
    "loan_performance['default_rate'] = round((loan_performance.defaulted/loan_performance.loans)*100,2)"
   ]
  },
  {
   "cell_type": "code",
   "execution_count": 41,
   "metadata": {},
   "outputs": [
    {
     "data": {
      "text/html": [
       "<div>\n",
       "<style scoped>\n",
       "    .dataframe tbody tr th:only-of-type {\n",
       "        vertical-align: middle;\n",
       "    }\n",
       "\n",
       "    .dataframe tbody tr th {\n",
       "        vertical-align: top;\n",
       "    }\n",
       "\n",
       "    .dataframe thead th {\n",
       "        text-align: right;\n",
       "    }\n",
       "</style>\n",
       "<table border=\"1\" class=\"dataframe\">\n",
       "  <thead>\n",
       "    <tr style=\"text-align: right;\">\n",
       "      <th></th>\n",
       "      <th>grade</th>\n",
       "      <th>defaulted</th>\n",
       "      <th>loans</th>\n",
       "      <th>default_rate</th>\n",
       "    </tr>\n",
       "  </thead>\n",
       "  <tbody>\n",
       "    <tr>\n",
       "      <th>0</th>\n",
       "      <td>G</td>\n",
       "      <td>248</td>\n",
       "      <td>627</td>\n",
       "      <td>39.55</td>\n",
       "    </tr>\n",
       "    <tr>\n",
       "      <th>1</th>\n",
       "      <td>F</td>\n",
       "      <td>1408</td>\n",
       "      <td>4234</td>\n",
       "      <td>33.25</td>\n",
       "    </tr>\n",
       "    <tr>\n",
       "      <th>2</th>\n",
       "      <td>E</td>\n",
       "      <td>6033</td>\n",
       "      <td>20990</td>\n",
       "      <td>28.74</td>\n",
       "    </tr>\n",
       "    <tr>\n",
       "      <th>3</th>\n",
       "      <td>D</td>\n",
       "      <td>17542</td>\n",
       "      <td>74799</td>\n",
       "      <td>23.45</td>\n",
       "    </tr>\n",
       "    <tr>\n",
       "      <th>4</th>\n",
       "      <td>C</td>\n",
       "      <td>28685</td>\n",
       "      <td>159824</td>\n",
       "      <td>17.95</td>\n",
       "    </tr>\n",
       "    <tr>\n",
       "      <th>5</th>\n",
       "      <td>B</td>\n",
       "      <td>23517</td>\n",
       "      <td>209313</td>\n",
       "      <td>11.24</td>\n",
       "    </tr>\n",
       "    <tr>\n",
       "      <th>6</th>\n",
       "      <td>A</td>\n",
       "      <td>7742</td>\n",
       "      <td>140804</td>\n",
       "      <td>5.50</td>\n",
       "    </tr>\n",
       "  </tbody>\n",
       "</table>\n",
       "</div>"
      ],
      "text/plain": [
       "  grade  defaulted   loans  default_rate\n",
       "0     G        248     627         39.55\n",
       "1     F       1408    4234         33.25\n",
       "2     E       6033   20990         28.74\n",
       "3     D      17542   74799         23.45\n",
       "4     C      28685  159824         17.95\n",
       "5     B      23517  209313         11.24\n",
       "6     A       7742  140804          5.50"
      ]
     },
     "execution_count": 41,
     "metadata": {},
     "output_type": "execute_result"
    }
   ],
   "source": [
    "loan_performance.sort_values(by=['grade'],ascending=False).reset_index(drop=True)"
   ]
  },
  {
   "cell_type": "markdown",
   "metadata": {},
   "source": [
    "# Origination Year x Grade"
   ]
  },
  {
   "cell_type": "code",
   "execution_count": 42,
   "metadata": {
    "collapsed": true
   },
   "outputs": [],
   "source": [
    "num_defaulted = loan_db_part2.groupby(['Origination_Year','grade'])['default_ind'].sum().rename('defaulted').reset_index()\n",
    "num_loans = loan_db_part2.groupby(['Origination_Year','grade'])['default_ind'].count().rename('loans').reset_index()"
   ]
  },
  {
   "cell_type": "code",
   "execution_count": 43,
   "metadata": {
    "collapsed": true
   },
   "outputs": [],
   "source": [
    "loan_performance = pd.merge(num_defaulted, num_loans, on = ['Origination_Year','grade'])\n",
    "loan_performance['default_rate'] = round((loan_performance.defaulted/loan_performance.loans)*100,2)"
   ]
  },
  {
   "cell_type": "code",
   "execution_count": 44,
   "metadata": {},
   "outputs": [
    {
     "data": {
      "text/html": [
       "<div>\n",
       "<style scoped>\n",
       "    .dataframe tbody tr th:only-of-type {\n",
       "        vertical-align: middle;\n",
       "    }\n",
       "\n",
       "    .dataframe tbody tr th {\n",
       "        vertical-align: top;\n",
       "    }\n",
       "\n",
       "    .dataframe thead th {\n",
       "        text-align: right;\n",
       "    }\n",
       "</style>\n",
       "<table border=\"1\" class=\"dataframe\">\n",
       "  <thead>\n",
       "    <tr style=\"text-align: right;\">\n",
       "      <th></th>\n",
       "      <th>Origination_Year</th>\n",
       "      <th>grade</th>\n",
       "      <th>defaulted</th>\n",
       "      <th>loans</th>\n",
       "      <th>default_rate</th>\n",
       "    </tr>\n",
       "  </thead>\n",
       "  <tbody>\n",
       "    <tr>\n",
       "      <th>0</th>\n",
       "      <td>2015</td>\n",
       "      <td>G</td>\n",
       "      <td>107</td>\n",
       "      <td>221</td>\n",
       "      <td>48.42</td>\n",
       "    </tr>\n",
       "    <tr>\n",
       "      <th>1</th>\n",
       "      <td>2007</td>\n",
       "      <td>F</td>\n",
       "      <td>24</td>\n",
       "      <td>51</td>\n",
       "      <td>47.06</td>\n",
       "    </tr>\n",
       "    <tr>\n",
       "      <th>2</th>\n",
       "      <td>2007</td>\n",
       "      <td>G</td>\n",
       "      <td>13</td>\n",
       "      <td>29</td>\n",
       "      <td>44.83</td>\n",
       "    </tr>\n",
       "    <tr>\n",
       "      <th>3</th>\n",
       "      <td>2015</td>\n",
       "      <td>F</td>\n",
       "      <td>552</td>\n",
       "      <td>1292</td>\n",
       "      <td>42.72</td>\n",
       "    </tr>\n",
       "    <tr>\n",
       "      <th>4</th>\n",
       "      <td>2009</td>\n",
       "      <td>G</td>\n",
       "      <td>18</td>\n",
       "      <td>49</td>\n",
       "      <td>36.73</td>\n",
       "    </tr>\n",
       "  </tbody>\n",
       "</table>\n",
       "</div>"
      ],
      "text/plain": [
       "   Origination_Year grade  defaulted  loans  default_rate\n",
       "0              2015     G        107    221         48.42\n",
       "1              2007     F         24     51         47.06\n",
       "2              2007     G         13     29         44.83\n",
       "3              2015     F        552   1292         42.72\n",
       "4              2009     G         18     49         36.73"
      ]
     },
     "execution_count": 44,
     "metadata": {},
     "output_type": "execute_result"
    }
   ],
   "source": [
    "loan_performance.sort_values(by=['default_rate'],ascending=False).reset_index(drop=True).head()"
   ]
  },
  {
   "cell_type": "markdown",
   "metadata": {},
   "source": [
    "# 3) When bucketed by year of origination and grade, what annualized rate of return have these loans generated on average?"
   ]
  },
  {
   "cell_type": "markdown",
   "metadata": {},
   "source": [
    "For simplicity, use the following approximation:\n",
    "Annualized rate of return = (total_pymnt / funded_amnt) ^ (1/3) - 1"
   ]
  },
  {
   "cell_type": "code",
   "execution_count": 45,
   "metadata": {
    "collapsed": true
   },
   "outputs": [],
   "source": [
    "def annualized_return(row):\n",
    "    return (((row['total_pymnt']/row['funded_amnt']) ** (1/3))-1)\n",
    "loan_db_part2['annualized_rate_of_return'] = loan_db_part2.apply(annualized_return,axis=1)"
   ]
  },
  {
   "cell_type": "markdown",
   "metadata": {},
   "source": [
    "# Overall"
   ]
  },
  {
   "cell_type": "code",
   "execution_count": 46,
   "metadata": {},
   "outputs": [
    {
     "data": {
      "text/plain": [
       "1.8995387407381437"
      ]
     },
     "execution_count": 46,
     "metadata": {},
     "output_type": "execute_result"
    }
   ],
   "source": [
    "loan_db_part2['annualized_rate_of_return'].mean()*100"
   ]
  },
  {
   "cell_type": "markdown",
   "metadata": {},
   "source": [
    "# Origination Year"
   ]
  },
  {
   "cell_type": "code",
   "execution_count": 47,
   "metadata": {},
   "outputs": [
    {
     "data": {
      "text/html": [
       "<div>\n",
       "<style scoped>\n",
       "    .dataframe tbody tr th:only-of-type {\n",
       "        vertical-align: middle;\n",
       "    }\n",
       "\n",
       "    .dataframe tbody tr th {\n",
       "        vertical-align: top;\n",
       "    }\n",
       "\n",
       "    .dataframe thead th {\n",
       "        text-align: right;\n",
       "    }\n",
       "</style>\n",
       "<table border=\"1\" class=\"dataframe\">\n",
       "  <thead>\n",
       "    <tr style=\"text-align: right;\">\n",
       "      <th></th>\n",
       "      <th>Origination_Year</th>\n",
       "      <th>annualized_rate_of_return</th>\n",
       "    </tr>\n",
       "  </thead>\n",
       "  <tbody>\n",
       "    <tr>\n",
       "      <th>0</th>\n",
       "      <td>2007</td>\n",
       "      <td>-0.010923</td>\n",
       "    </tr>\n",
       "    <tr>\n",
       "      <th>1</th>\n",
       "      <td>2008</td>\n",
       "      <td>-0.003214</td>\n",
       "    </tr>\n",
       "    <tr>\n",
       "      <th>2</th>\n",
       "      <td>2009</td>\n",
       "      <td>0.014982</td>\n",
       "    </tr>\n",
       "    <tr>\n",
       "      <th>3</th>\n",
       "      <td>2010</td>\n",
       "      <td>0.021042</td>\n",
       "    </tr>\n",
       "    <tr>\n",
       "      <th>4</th>\n",
       "      <td>2011</td>\n",
       "      <td>0.018909</td>\n",
       "    </tr>\n",
       "    <tr>\n",
       "      <th>5</th>\n",
       "      <td>2012</td>\n",
       "      <td>0.021747</td>\n",
       "    </tr>\n",
       "    <tr>\n",
       "      <th>6</th>\n",
       "      <td>2013</td>\n",
       "      <td>0.028977</td>\n",
       "    </tr>\n",
       "    <tr>\n",
       "      <th>7</th>\n",
       "      <td>2014</td>\n",
       "      <td>0.022106</td>\n",
       "    </tr>\n",
       "    <tr>\n",
       "      <th>8</th>\n",
       "      <td>2015</td>\n",
       "      <td>0.013473</td>\n",
       "    </tr>\n",
       "  </tbody>\n",
       "</table>\n",
       "</div>"
      ],
      "text/plain": [
       "   Origination_Year  annualized_rate_of_return\n",
       "0              2007                  -0.010923\n",
       "1              2008                  -0.003214\n",
       "2              2009                   0.014982\n",
       "3              2010                   0.021042\n",
       "4              2011                   0.018909\n",
       "5              2012                   0.021747\n",
       "6              2013                   0.028977\n",
       "7              2014                   0.022106\n",
       "8              2015                   0.013473"
      ]
     },
     "execution_count": 47,
     "metadata": {},
     "output_type": "execute_result"
    }
   ],
   "source": [
    "loan_db_part2.groupby(['Origination_Year'])['annualized_rate_of_return'].mean().reset_index()"
   ]
  },
  {
   "cell_type": "markdown",
   "metadata": {},
   "source": [
    "# Grade"
   ]
  },
  {
   "cell_type": "code",
   "execution_count": 48,
   "metadata": {},
   "outputs": [
    {
     "data": {
      "text/html": [
       "<div>\n",
       "<style scoped>\n",
       "    .dataframe tbody tr th:only-of-type {\n",
       "        vertical-align: middle;\n",
       "    }\n",
       "\n",
       "    .dataframe tbody tr th {\n",
       "        vertical-align: top;\n",
       "    }\n",
       "\n",
       "    .dataframe thead th {\n",
       "        text-align: right;\n",
       "    }\n",
       "</style>\n",
       "<table border=\"1\" class=\"dataframe\">\n",
       "  <thead>\n",
       "    <tr style=\"text-align: right;\">\n",
       "      <th></th>\n",
       "      <th>grade</th>\n",
       "      <th>annualized_rate_of_return</th>\n",
       "    </tr>\n",
       "  </thead>\n",
       "  <tbody>\n",
       "    <tr>\n",
       "      <th>0</th>\n",
       "      <td>A</td>\n",
       "      <td>0.020342</td>\n",
       "    </tr>\n",
       "    <tr>\n",
       "      <th>1</th>\n",
       "      <td>B</td>\n",
       "      <td>0.022933</td>\n",
       "    </tr>\n",
       "    <tr>\n",
       "      <th>2</th>\n",
       "      <td>C</td>\n",
       "      <td>0.017801</td>\n",
       "    </tr>\n",
       "    <tr>\n",
       "      <th>3</th>\n",
       "      <td>D</td>\n",
       "      <td>0.013222</td>\n",
       "    </tr>\n",
       "    <tr>\n",
       "      <th>4</th>\n",
       "      <td>E</td>\n",
       "      <td>0.005222</td>\n",
       "    </tr>\n",
       "    <tr>\n",
       "      <th>5</th>\n",
       "      <td>F</td>\n",
       "      <td>0.000699</td>\n",
       "    </tr>\n",
       "    <tr>\n",
       "      <th>6</th>\n",
       "      <td>G</td>\n",
       "      <td>-0.020074</td>\n",
       "    </tr>\n",
       "  </tbody>\n",
       "</table>\n",
       "</div>"
      ],
      "text/plain": [
       "  grade  annualized_rate_of_return\n",
       "0     A                   0.020342\n",
       "1     B                   0.022933\n",
       "2     C                   0.017801\n",
       "3     D                   0.013222\n",
       "4     E                   0.005222\n",
       "5     F                   0.000699\n",
       "6     G                  -0.020074"
      ]
     },
     "execution_count": 48,
     "metadata": {},
     "output_type": "execute_result"
    }
   ],
   "source": [
    "loan_db_part2.groupby(['grade'])['annualized_rate_of_return'].mean().reset_index()"
   ]
  },
  {
   "cell_type": "markdown",
   "metadata": {},
   "source": [
    "# Origination Year x Grade"
   ]
  },
  {
   "cell_type": "code",
   "execution_count": 49,
   "metadata": {
    "collapsed": true
   },
   "outputs": [],
   "source": [
    "returns = loan_db_part2.groupby(['Origination_Year','grade'])['annualized_rate_of_return'].mean().reset_index()"
   ]
  },
  {
   "cell_type": "code",
   "execution_count": 78,
   "metadata": {},
   "outputs": [
    {
     "data": {
      "text/plain": [
       "0.7896985290007618"
      ]
     },
     "execution_count": 78,
     "metadata": {},
     "output_type": "execute_result"
    }
   ],
   "source": [
    "returns['annualized_rate_of_return'].mean()*100"
   ]
  },
  {
   "cell_type": "code",
   "execution_count": 51,
   "metadata": {},
   "outputs": [
    {
     "data": {
      "image/png": "[encoded data removed]",
      "text/plain": [
       "<matplotlib.figure.Figure at 0x128baff98>"
      ]
     },
     "metadata": {},
     "output_type": "display_data"
    }
   ],
   "source": [
    "x = returns['Origination_Year'].map(str) + ' ' + returns['grade']\n",
    "y = returns.annualized_rate_of_return\n",
    "\n",
    "x_pos = [i for i, _ in enumerate(x)]\n",
    "\n",
    "plt.bar(x_pos, y, color='green')\n",
    "plt.xticks(x_pos, x,rotation='vertical')\n",
    "plt.show()"
   ]
  },
  {
   "cell_type": "markdown",
   "metadata": {},
   "source": [
    "# Part 3: Modeling"
   ]
  },
  {
   "cell_type": "markdown",
   "metadata": {},
   "source": [
    "Please build a logistic regression model to predict loan defaults that could help us avoid investing in such loans. "
   ]
  },
  {
   "cell_type": "raw",
   "metadata": {},
   "source": [
    "Assume that:\n",
    "    (i) you are given the ability to invest in each loan independently\n",
    "    (ii) you invest immediately following loan origination and hold to maturity (36 months) \n",
    "    (iii) all loan fields that would be known upon origination are made available to you.\n",
    "\n",
    "Was the model effective? Explain how you validated your model and describe how you measure the performance of the model."
   ]
  },
  {
   "cell_type": "code",
   "execution_count": 52,
   "metadata": {
    "collapsed": true
   },
   "outputs": [],
   "source": [
    "loan_db_part3 = loan_db_part2"
   ]
  },
  {
   "cell_type": "code",
   "execution_count": 53,
   "metadata": {
    "collapsed": true
   },
   "outputs": [],
   "source": [
    "#Filter to loans that are Fully Paid or Charged Off (Definite Outcomes)\n",
    "loan_db_part3 = loan_db_part3[loan_db_part3['outcome'].isin(['Charged Off','Fully Paid'])].reset_index(drop=True)"
   ]
  },
  {
   "cell_type": "code",
   "execution_count": 54,
   "metadata": {
    "collapsed": true
   },
   "outputs": [],
   "source": [
    "from sklearn import preprocessing\n",
    "number = preprocessing.LabelEncoder()\n",
    "\n",
    "from sklearn.model_selection import train_test_split\n",
    "from sklearn.model_selection import KFold\n",
    "\n",
    "from imblearn.over_sampling import SMOTE\n",
    "\n",
    "from sklearn.linear_model import LogisticRegression\n",
    "logreg = LogisticRegression()\n",
    "from sklearn.feature_selection import RFE\n",
    "rfe = RFE(logreg)\n",
    "\n",
    "import statsmodels.api as sm"
   ]
  },
  {
   "cell_type": "markdown",
   "metadata": {},
   "source": [
    "# Feature Creation"
   ]
  },
  {
   "cell_type": "code",
   "execution_count": 55,
   "metadata": {
    "collapsed": true
   },
   "outputs": [],
   "source": [
    "#Log the Income related variables\n",
    "loan_db_part3['log_inc'] = np.log(loan_db_part3['annual_inc'])\n",
    "loan_db_part3['log_revol_bal'] = np.log(loan_db_part3['revol_bal']+1)\n",
    "\n",
    "#Turn Categorical into Numeric\n",
    "loan_db_part3['grade_cat'] = number.fit_transform(loan_db_part3['grade'])\n",
    "\n",
    "#Define Additional Features to test\n",
    "loan_db_part3['diff_in_funding'] = loan_db_part3['funded_amnt'] - loan_db_part3['loan_amnt']"
   ]
  },
  {
   "cell_type": "code",
   "execution_count": 56,
   "metadata": {
    "collapsed": true
   },
   "outputs": [],
   "source": [
    "#Filter DB to relevant columns\n",
    "model_df = loan_db_part3[['funded_amnt','diff_in_funding','int_rate',\n",
    "                          'grade_cat','log_inc','dti','log_revol_bal',\n",
    "                          'default_ind']]"
   ]
  },
  {
   "cell_type": "code",
   "execution_count": 57,
   "metadata": {},
   "outputs": [
    {
     "data": {
      "text/plain": [
       "grade  grade_cat\n",
       "A      0            140771\n",
       "B      1            209199\n",
       "C      2            159734\n",
       "D      3             74745\n",
       "E      4             20973\n",
       "F      5              4231\n",
       "G      6               624\n",
       "Name: default_ind, dtype: int64"
      ]
     },
     "execution_count": 57,
     "metadata": {},
     "output_type": "execute_result"
    }
   ],
   "source": [
    "#Confirm what the categorical looks like numerically\n",
    "loan_db_part3.groupby(['grade','grade_cat'])['default_ind'].count()"
   ]
  },
  {
   "cell_type": "code",
   "execution_count": 58,
   "metadata": {},
   "outputs": [
    {
     "data": {
      "image/png": "[encoded data removed]",
      "text/plain": [
       "<matplotlib.figure.Figure at 0x14a3c16a0>"
      ]
     },
     "metadata": {},
     "output_type": "display_data"
    }
   ],
   "source": [
    "model_df.hist()\n",
    "plt.show()"
   ]
  },
  {
   "cell_type": "code",
   "execution_count": 59,
   "metadata": {},
   "outputs": [
    {
     "data": {
      "text/html": [
       "<div>\n",
       "<style scoped>\n",
       "    .dataframe tbody tr th:only-of-type {\n",
       "        vertical-align: middle;\n",
       "    }\n",
       "\n",
       "    .dataframe tbody tr th {\n",
       "        vertical-align: top;\n",
       "    }\n",
       "\n",
       "    .dataframe thead th {\n",
       "        text-align: right;\n",
       "    }\n",
       "</style>\n",
       "<table border=\"1\" class=\"dataframe\">\n",
       "  <thead>\n",
       "    <tr style=\"text-align: right;\">\n",
       "      <th></th>\n",
       "      <th>funded_amnt</th>\n",
       "      <th>diff_in_funding</th>\n",
       "      <th>int_rate</th>\n",
       "      <th>grade_cat</th>\n",
       "      <th>log_inc</th>\n",
       "      <th>dti</th>\n",
       "      <th>log_revol_bal</th>\n",
       "      <th>default_ind</th>\n",
       "    </tr>\n",
       "  </thead>\n",
       "  <tbody>\n",
       "    <tr>\n",
       "      <th>funded_amnt</th>\n",
       "      <td>1.000000</td>\n",
       "      <td>0.007680</td>\n",
       "      <td>-0.084115</td>\n",
       "      <td>-0.083594</td>\n",
       "      <td>0.497529</td>\n",
       "      <td>0.011973</td>\n",
       "      <td>0.384587</td>\n",
       "      <td>-0.015184</td>\n",
       "    </tr>\n",
       "    <tr>\n",
       "      <th>diff_in_funding</th>\n",
       "      <td>0.007680</td>\n",
       "      <td>1.000000</td>\n",
       "      <td>0.015430</td>\n",
       "      <td>0.006199</td>\n",
       "      <td>-0.010732</td>\n",
       "      <td>0.016266</td>\n",
       "      <td>-0.002447</td>\n",
       "      <td>0.000158</td>\n",
       "    </tr>\n",
       "    <tr>\n",
       "      <th>int_rate</th>\n",
       "      <td>-0.084115</td>\n",
       "      <td>0.015430</td>\n",
       "      <td>1.000000</td>\n",
       "      <td>0.939436</td>\n",
       "      <td>-0.214134</td>\n",
       "      <td>0.138035</td>\n",
       "      <td>-0.096716</td>\n",
       "      <td>0.188700</td>\n",
       "    </tr>\n",
       "    <tr>\n",
       "      <th>grade_cat</th>\n",
       "      <td>-0.083594</td>\n",
       "      <td>0.006199</td>\n",
       "      <td>0.939436</td>\n",
       "      <td>1.000000</td>\n",
       "      <td>-0.204665</td>\n",
       "      <td>0.145428</td>\n",
       "      <td>-0.105439</td>\n",
       "      <td>0.193332</td>\n",
       "    </tr>\n",
       "    <tr>\n",
       "      <th>log_inc</th>\n",
       "      <td>0.497529</td>\n",
       "      <td>-0.010732</td>\n",
       "      <td>-0.214134</td>\n",
       "      <td>-0.204665</td>\n",
       "      <td>1.000000</td>\n",
       "      <td>-0.216139</td>\n",
       "      <td>0.317277</td>\n",
       "      <td>-0.087823</td>\n",
       "    </tr>\n",
       "    <tr>\n",
       "      <th>dti</th>\n",
       "      <td>0.011973</td>\n",
       "      <td>0.016266</td>\n",
       "      <td>0.138035</td>\n",
       "      <td>0.145428</td>\n",
       "      <td>-0.216139</td>\n",
       "      <td>1.000000</td>\n",
       "      <td>0.227523</td>\n",
       "      <td>0.080762</td>\n",
       "    </tr>\n",
       "    <tr>\n",
       "      <th>log_revol_bal</th>\n",
       "      <td>0.384587</td>\n",
       "      <td>-0.002447</td>\n",
       "      <td>-0.096716</td>\n",
       "      <td>-0.105439</td>\n",
       "      <td>0.317277</td>\n",
       "      <td>0.227523</td>\n",
       "      <td>1.000000</td>\n",
       "      <td>-0.029943</td>\n",
       "    </tr>\n",
       "    <tr>\n",
       "      <th>default_ind</th>\n",
       "      <td>-0.015184</td>\n",
       "      <td>0.000158</td>\n",
       "      <td>0.188700</td>\n",
       "      <td>0.193332</td>\n",
       "      <td>-0.087823</td>\n",
       "      <td>0.080762</td>\n",
       "      <td>-0.029943</td>\n",
       "      <td>1.000000</td>\n",
       "    </tr>\n",
       "  </tbody>\n",
       "</table>\n",
       "</div>"
      ],
      "text/plain": [
       "                 funded_amnt  diff_in_funding  int_rate  grade_cat   log_inc  \\\n",
       "funded_amnt         1.000000         0.007680 -0.084115  -0.083594  0.497529   \n",
       "diff_in_funding     0.007680         1.000000  0.015430   0.006199 -0.010732   \n",
       "int_rate           -0.084115         0.015430  1.000000   0.939436 -0.214134   \n",
       "grade_cat          -0.083594         0.006199  0.939436   1.000000 -0.204665   \n",
       "log_inc             0.497529        -0.010732 -0.214134  -0.204665  1.000000   \n",
       "dti                 0.011973         0.016266  0.138035   0.145428 -0.216139   \n",
       "log_revol_bal       0.384587        -0.002447 -0.096716  -0.105439  0.317277   \n",
       "default_ind        -0.015184         0.000158  0.188700   0.193332 -0.087823   \n",
       "\n",
       "                      dti  log_revol_bal  default_ind  \n",
       "funded_amnt      0.011973       0.384587    -0.015184  \n",
       "diff_in_funding  0.016266      -0.002447     0.000158  \n",
       "int_rate         0.138035      -0.096716     0.188700  \n",
       "grade_cat        0.145428      -0.105439     0.193332  \n",
       "log_inc         -0.216139       0.317277    -0.087823  \n",
       "dti              1.000000       0.227523     0.080762  \n",
       "log_revol_bal    0.227523       1.000000    -0.029943  \n",
       "default_ind      0.080762      -0.029943     1.000000  "
      ]
     },
     "execution_count": 59,
     "metadata": {},
     "output_type": "execute_result"
    }
   ],
   "source": [
    "#scatter_matrix(model_df.sample(frac=0.25, replace=False, random_state=1), alpha=0.2, figsize=(6, 6), diagonal='kde')\n",
    "model_df.corr()"
   ]
  },
  {
   "cell_type": "markdown",
   "metadata": {},
   "source": [
    "# Model Build"
   ]
  },
  {
   "cell_type": "code",
   "execution_count": 60,
   "metadata": {
    "collapsed": true
   },
   "outputs": [],
   "source": [
    "#Partition the data between the features and dependent variable\n",
    "X = model_df.loc[:, model_df.columns != 'default_ind']\n",
    "y = model_df.loc[:, model_df.columns == 'default_ind']\n",
    "X_train, X_test, y_train, y_test = train_test_split(X, y, test_size=0.3, random_state=0)"
   ]
  },
  {
   "cell_type": "code",
   "execution_count": 61,
   "metadata": {
    "collapsed": true
   },
   "outputs": [],
   "source": [
    "#Use SMOTE to re-balance the sample\n",
    "os = SMOTE(random_state=0)\n",
    "os_data_X,os_data_y=os.fit_sample(X_train, y_train)"
   ]
  },
  {
   "cell_type": "code",
   "execution_count": 62,
   "metadata": {},
   "outputs": [
    {
     "name": "stdout",
     "output_type": "stream",
     "text": [
      "length of oversampled data is  735980\n",
      "Number of no default in oversampled data 367990\n",
      "Number of default 367990\n",
      "Proportion of no subscription data in oversampled data is  0.5\n",
      "Proportion of subscription data in oversampled data is  0.5\n"
     ]
    }
   ],
   "source": [
    "os_data_X = pd.DataFrame(data=os_data_X,columns=['funded_amnt','diff_in_funding','int_rate',\n",
    "                                                 'grade_cat','log_inc','dti','log_revol_bal'])\n",
    "os_data_y= pd.DataFrame(data=os_data_y,columns=['default_ind'])\n",
    "# we can Check the numbers of our data\n",
    "print(\"length of oversampled data is \",len(os_data_X))\n",
    "print(\"Number of no default in oversampled data\",len(os_data_y[os_data_y['default_ind']==0]))\n",
    "print(\"Number of default\",len(os_data_y[os_data_y['default_ind']==1]))\n",
    "print(\"Proportion of no subscription data in oversampled data is \",len(os_data_y[os_data_y['default_ind']==0])/len(os_data_X))\n",
    "print(\"Proportion of subscription data in oversampled data is \",len(os_data_y[os_data_y['default_ind']==1])/len(os_data_X))"
   ]
  },
  {
   "cell_type": "code",
   "execution_count": 63,
   "metadata": {
    "collapsed": true
   },
   "outputs": [],
   "source": [
    "#Check what variable ranking suggests for relative importance\n",
    "rfe = rfe.fit(os_data_X, os_data_y.values.ravel())"
   ]
  },
  {
   "cell_type": "code",
   "execution_count": 64,
   "metadata": {},
   "outputs": [
    {
     "name": "stdout",
     "output_type": "stream",
     "text": [
      "[5 4 1 1 1 2 3]\n"
     ]
    }
   ],
   "source": [
    "print(rfe.ranking_)"
   ]
  },
  {
   "cell_type": "code",
   "execution_count": 68,
   "metadata": {
    "collapsed": true
   },
   "outputs": [],
   "source": [
    "#Select Variables to test\n",
    "cols=['int_rate','grade_cat','log_inc','dti'] "
   ]
  },
  {
   "cell_type": "code",
   "execution_count": 69,
   "metadata": {
    "collapsed": true
   },
   "outputs": [],
   "source": [
    "X=os_data_X[cols]\n",
    "y=os_data_y['default_ind']"
   ]
  },
  {
   "cell_type": "code",
   "execution_count": 70,
   "metadata": {},
   "outputs": [
    {
     "name": "stdout",
     "output_type": "stream",
     "text": [
      "Optimization terminated successfully.\n",
      "         Current function value: 0.648831\n",
      "         Iterations 5\n",
      "                          Results: Logit\n",
      "==================================================================\n",
      "Model:              Logit            No. Iterations:   5.0000     \n",
      "Dependent Variable: default_ind      Pseudo R-squared: 0.064      \n",
      "Date:               2019-11-17 10:16 AIC:              955061.5852\n",
      "No. Observations:   735980           BIC:              955107.6210\n",
      "Df Model:           3                Log-Likelihood:   -4.7753e+05\n",
      "Df Residuals:       735976           LL-Null:          -5.1014e+05\n",
      "Converged:          1.0000           Scale:            1.0000     \n",
      "-------------------------------------------------------------------\n",
      "              Coef.   Std.Err.      z      P>|z|    [0.025   0.975]\n",
      "-------------------------------------------------------------------\n",
      "int_rate      0.0834    0.0019    44.8275  0.0000   0.0798   0.0871\n",
      "grade_cat     0.2244    0.0064    34.9122  0.0000   0.2118   0.2370\n",
      "log_inc      -0.1612    0.0014  -117.6452  0.0000  -0.1639  -0.1585\n",
      "dti           0.0186    0.0003    63.3591  0.0000   0.0181   0.0192\n",
      "==================================================================\n",
      "\n"
     ]
    }
   ],
   "source": [
    "#Evaulate Variable Performance in Logistic Regression Model\n",
    "logit_model=sm.Logit(y,X)\n",
    "result=logit_model.fit()\n",
    "print(result.summary2())"
   ]
  },
  {
   "cell_type": "code",
   "execution_count": 71,
   "metadata": {},
   "outputs": [
    {
     "data": {
      "text/plain": [
       "LogisticRegression(C=1.0, class_weight=None, dual=False, fit_intercept=True,\n",
       "                   intercept_scaling=1, l1_ratio=None, max_iter=100,\n",
       "                   multi_class='warn', n_jobs=None, penalty='l2',\n",
       "                   random_state=None, solver='warn', tol=0.0001, verbose=0,\n",
       "                   warm_start=False)"
      ]
     },
     "execution_count": 71,
     "metadata": {},
     "output_type": "execute_result"
    }
   ],
   "source": [
    "X_train, X_test, y_train, y_test = train_test_split(X, y, test_size=0.3, random_state=0)\n",
    "logreg = LogisticRegression()\n",
    "logreg.fit(X_train, y_train)"
   ]
  },
  {
   "cell_type": "code",
   "execution_count": 72,
   "metadata": {},
   "outputs": [
    {
     "name": "stdout",
     "output_type": "stream",
     "text": [
      "Accuracy of logistic regression classifier on test set: 0.63\n"
     ]
    }
   ],
   "source": [
    "y_pred = logreg.predict(X_test)\n",
    "print('Accuracy of logistic regression classifier on test set: {:.2f}'.format(logreg.score(X_test, y_test)))"
   ]
  },
  {
   "cell_type": "code",
   "execution_count": 73,
   "metadata": {},
   "outputs": [
    {
     "name": "stdout",
     "output_type": "stream",
     "text": [
      "[[69813 40176]\n",
      " [42073 68732]]\n"
     ]
    }
   ],
   "source": [
    "from sklearn.metrics import confusion_matrix\n",
    "confusion_matrix = confusion_matrix(y_test, y_pred)\n",
    "print(confusion_matrix)"
   ]
  },
  {
   "cell_type": "code",
   "execution_count": 74,
   "metadata": {},
   "outputs": [
    {
     "name": "stdout",
     "output_type": "stream",
     "text": [
      "              precision    recall  f1-score   support\n",
      "\n",
      "           0       0.62      0.63      0.63    109989\n",
      "           1       0.63      0.62      0.63    110805\n",
      "\n",
      "    accuracy                           0.63    220794\n",
      "   macro avg       0.63      0.63      0.63    220794\n",
      "weighted avg       0.63      0.63      0.63    220794\n",
      "\n"
     ]
    }
   ],
   "source": [
    "from sklearn.metrics import classification_report\n",
    "print(classification_report(y_test, y_pred))"
   ]
  },
  {
   "cell_type": "code",
   "execution_count": 75,
   "metadata": {},
   "outputs": [
    {
     "data": {
      "image/png": "[encoded data removed]",
      "text/plain": [
       "<matplotlib.figure.Figure at 0x1184732b0>"
      ]
     },
     "metadata": {},
     "output_type": "display_data"
    }
   ],
   "source": [
    "from sklearn.metrics import roc_auc_score\n",
    "from sklearn.metrics import roc_curve\n",
    "logit_roc_auc = roc_auc_score(y_test, logreg.predict(X_test[cols]))\n",
    "fpr, tpr, thresholds = roc_curve(y_test, logreg.predict_proba(X_test[cols])[:,1])\n",
    "plt.figure()\n",
    "plt.plot(fpr, tpr, label='Logistic Regression (area = %0.2f)' % logit_roc_auc)\n",
    "plt.plot([0, 1], [0, 1],'r--')\n",
    "plt.xlim([0.0, 1.0])\n",
    "plt.ylim([0.0, 1.05])\n",
    "plt.xlabel('False Positive Rate')\n",
    "plt.ylabel('True Positive Rate')\n",
    "plt.title('Receiver operating characteristic')\n",
    "plt.legend(loc=\"lower right\")\n",
    "plt.savefig('Log_ROC')\n",
    "plt.show()"
   ]
  },
  {
   "cell_type": "markdown",
   "metadata": {
    "collapsed": true
   },
   "source": [
    "# Confirm Robustness of Results with K Fold CV"
   ]
  },
  {
   "cell_type": "code",
   "execution_count": 76,
   "metadata": {},
   "outputs": [
    {
     "name": "stdout",
     "output_type": "stream",
     "text": [
      "Scores from each Iteration:  [0.6289244281313495, 0.6308743527561119, 0.627203906403618, 0.6259094186275153, 0.6260896637608966, 0.630710493543947, 0.6276627121976798, 0.6335452579144, 0.629006357737432, 0.6269253457429377]\n",
      "Average K-Fold Score : 0.6286851936815887\n"
     ]
    }
   ],
   "source": [
    "kf = KFold(n_splits=10,shuffle=True)\n",
    "X = model_df[cols]\n",
    "y = model_df[['default_ind']]\n",
    "\n",
    "scores = []\n",
    "for i in range(10):\n",
    "    result = next(kf.split(X), None)\n",
    "    x_train = X.iloc[result[0]]\n",
    "    x_test = X.iloc[result[1]]\n",
    "    y_train = y.iloc[result[0]]\n",
    "    y_test = y.iloc[result[1]]\n",
    "    \n",
    "    os_data_X,os_data_y=os.fit_sample(x_train, y_train)\n",
    "    \n",
    "    os_data_X = pd.DataFrame(data=os_data_X,columns=cols)\n",
    "    os_data_y= pd.DataFrame(data=os_data_y,columns=['default_ind'])\n",
    "  \n",
    "    model = logreg.fit(os_data_X,os_data_y)\n",
    "    predictions = logreg.predict(x_test)\n",
    "    scores.append(model.score(x_test,y_test))\n",
    "print('Scores from each Iteration: ', scores)\n",
    "print('Average K-Fold Score :' , np.mean(scores))"
   ]
  },
  {
   "cell_type": "code",
   "execution_count": null,
   "metadata": {
    "collapsed": true
   },
   "outputs": [],
   "source": []
  }
 ],
 "metadata": {
  "kernelspec": {
   "display_name": "Python 3",
   "language": "python",
   "name": "python3"
  },
  "language_info": {
   "codemirror_mode": {
    "name": "ipython",
    "version": 3
   },
   "file_extension": ".py",
   "mimetype": "text/x-python",
   "name": "python",
   "nbconvert_exporter": "python",
   "pygments_lexer": "ipython3",
   "version": "3.6.1"
  }
 },
 "nbformat": 4,
 "nbformat_minor": 2
}
